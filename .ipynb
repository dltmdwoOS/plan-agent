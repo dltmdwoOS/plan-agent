{
 "cells": [
  {
   "cell_type": "code",
   "execution_count": null,
   "id": "14c8bf4e",
   "metadata": {},
   "outputs": [],
   "source": [
    "import setup_env"
   ]
  },
  {
   "cell_type": "code",
   "execution_count": 1,
   "id": "a646ee5a",
   "metadata": {},
   "outputs": [],
   "source": [
    "from agent.graph import PlanAgent\n",
    "graph = PlanAgent('demo-1')"
   ]
  },
  {
   "cell_type": "code",
   "execution_count": 2,
   "id": "87d266c8",
   "metadata": {},
   "outputs": [
    {
     "name": "stdout",
     "output_type": "stream",
     "text": [
      "Input: Hello! What time is it?\n",
      "\n",
      "Attempt 1\n",
      "Plan: [{'tool': 'get_datetime', 'message': 'Get the current time.'}]\n",
      "Plan Step 1 Tool: tool='get_datetime' tool_input={'query': 'Current time', 'format': '%H:%M:%S'} message='Retrieve the current time in hours, minutes, and seconds.'\n",
      "Plan Step 1 Tool Output:\n",
      "<OUTPUT START>\n",
      "23:51:37\n",
      "<OUTPUT END>\n",
      "Accepted: True\n",
      "Validation Message: Successfully retrieved the current time.\n",
      "Response:\n",
      "The current time is 23:51:37."
     ]
    },
    {
     "data": {
      "text/plain": [
       "'The current time is 23:51:37.'"
      ]
     },
     "execution_count": 2,
     "metadata": {},
     "output_type": "execute_result"
    }
   ],
   "source": [
    "graph.chat('Hello! What time is it?', is_debug=True)"
   ]
  },
  {
   "cell_type": "code",
   "execution_count": null,
   "id": "e8bc9415",
   "metadata": {},
   "outputs": [],
   "source": [
    "graph.chat('Let me know the list of tools that are currently available to you step by step. Please explain each item using bullet point.', is_debug=True)"
   ]
  },
  {
   "cell_type": "code",
   "execution_count": 3,
   "id": "5253446d",
   "metadata": {},
   "outputs": [
    {
     "name": "stdout",
     "output_type": "stream",
     "text": [
      "Input: Search the news of the United States today in **English** and give a briefing something special.\n",
      "\n",
      "Attempt 1\n",
      "Plan: [{'tool': 'get_datetime', 'message': \"Get today's date to search for news.\"}, {'tool': 'web_search', 'message': \"Search for today's news in the United States in English.\"}]\n",
      "Plan Step 1 Tool: tool='get_datetime' tool_input={'query': \"Today's date\", 'format': '%Y-%m-%d'} message=\"Get today's date to search for news.\"\n",
      "Plan Step 1 Tool Output:\n",
      "<OUTPUT START>\n",
      "2025-08-03\n",
      "<OUTPUT END>\n",
      "Plan Step 2 Tool: tool='web_search' tool_input={'query': 'United States news on August 3, 2025 in English'} message=\"Search for today's news in the United States in English.\"\n",
      "Plan Step 2 Tool Output:\n",
      "<OUTPUT START>\n",
      "1st search result\n",
      "Title:   News Above the Noise—Week of August 3, 2025\n",
      "URL:     https://www.mariashriversundaypaper.com/news-above-the-noise-week-of-august-3-2025/\n",
      "Content: “A Wild Week for the Trump Economy”. This week delivered a dramatic and revealing snapshot of the U.S. economy under the Trump administration.\n",
      "\n",
      "2st search result\n",
      "Title:   Hassett Defends Firing of Top Labor Official Over Weak Jobs Numbers\n",
      "URL:     https://www.nytimes.com/live/2025/08/03/us/trump-news\n",
      "Content: Sunday, August 3, 2025. Today's Paper. Trump Administration. Updates · Trump Fires Labor Official · Pay-for-Access Operation · Conspiracy\n",
      "\n",
      "3st search result\n",
      "Title:   08/03/2025 | Video | C-SPAN.org\n",
      "URL:     https://www.c-span.org/event/washington-journal/08-03-2025/435383\n",
      "Content: Washington Institute's David Makovsky discusses Israeli PM Netanyahu's White House visit, Politico's Daniel Desrochers discusses Trump trade\n",
      "\n",
      "4st search result\n",
      "Title:   Letters to the editor for Sunday, August 3, 2025 - Yahoo\n",
      "URL:     https://www.yahoo.com/news/articles/letters-editor-sunday-august-3-100131971.html\n",
      "Content: The Democrats are the sorest losers and until they accept the reality of Trump's election, America will be fractured and all the king's horses…\n",
      "\n",
      "<OUTPUT END>\n",
      "Accepted: True\n",
      "Validation Message: The search for today's news in the United States was executed successfully following the date retrieval.\n",
      "Response:\n",
      "Here’s a briefing on today's news in the United States:\n",
      "\n",
      "1. **News Above the Noise—Week of August 3, 2025**: This article discusses \"A Wild Week for the Trump Economy,\" providing a dramatic snapshot of the U.S. economy under the Trump administration. [Read more here](https://www.mariashriversundaypaper.com/news-above-the-noise-week-of-august-3-2025/).\n",
      "\n",
      "2. **Hassett Defends Firing of Top Labor Official Over Weak Jobs Numbers**: This report covers the recent firing of a labor official by the Trump administration, amidst concerns over weak job numbers. [Read more here](https://www.nytimes.com/live/2025/08/03/us/trump-news).\n",
      "\n",
      "3. **C-SPAN Discussion**: David Makovsky from the Washington Institute discusses Israeli PM Netanyahu's visit to the White House, along with insights from Politico's Daniel Desrochers on Trump trade. [Watch the video here](https://www.c-span.org/event/washington-journal/08-03-2025/435383).\n",
      "\n",
      "4. **Letters to the Editor**: A collection of opinions reflecting on the current political climate, emphasizing the division in America following Trump's election. [Read more here](https://www.yahoo.com/news/articles/letters-editor-sunday-august-3-100131971.html).\n",
      "\n",
      "These articles highlight significant developments and discussions shaping the current landscape in the U.S."
     ]
    },
    {
     "data": {
      "text/plain": [
       "'Here’s a briefing on today\\'s news in the United States:\\n\\n1. **News Above the Noise—Week of August 3, 2025**: This article discusses \"A Wild Week for the Trump Economy,\" providing a dramatic snapshot of the U.S. economy under the Trump administration. [Read more here](https://www.mariashriversundaypaper.com/news-above-the-noise-week-of-august-3-2025/).\\n\\n2. **Hassett Defends Firing of Top Labor Official Over Weak Jobs Numbers**: This report covers the recent firing of a labor official by the Trump administration, amidst concerns over weak job numbers. [Read more here](https://www.nytimes.com/live/2025/08/03/us/trump-news).\\n\\n3. **C-SPAN Discussion**: David Makovsky from the Washington Institute discusses Israeli PM Netanyahu\\'s visit to the White House, along with insights from Politico\\'s Daniel Desrochers on Trump trade. [Watch the video here](https://www.c-span.org/event/washington-journal/08-03-2025/435383).\\n\\n4. **Letters to the Editor**: A collection of opinions reflecting on the current political climate, emphasizing the division in America following Trump\\'s election. [Read more here](https://www.yahoo.com/news/articles/letters-editor-sunday-august-3-100131971.html).\\n\\nThese articles highlight significant developments and discussions shaping the current landscape in the U.S.'"
      ]
     },
     "execution_count": 3,
     "metadata": {},
     "output_type": "execute_result"
    }
   ],
   "source": [
    "graph.chat('Search the news of the United States today in **English** and give a briefing something special.', is_debug=True)"
   ]
  },
  {
   "cell_type": "code",
   "execution_count": null,
   "id": "4a90475f",
   "metadata": {},
   "outputs": [],
   "source": [
    "graph.chat('Find the maximum and minimum values in the data expressed in the following list and let me know the value multiplied by each other. data = [23, 51, 62, 33, 77, 29, 94]. Don\\t forget you need some printing function to return it.', is_debug=True)"
   ]
  },
  {
   "cell_type": "code",
   "execution_count": null,
   "id": "f6509444",
   "metadata": {},
   "outputs": [],
   "source": [
    "graph.chat('Describe the screen I\\'m currently looking at.', is_debug=True)"
   ]
  }
 ],
 "metadata": {
  "kernelspec": {
   "display_name": "plan",
   "language": "python",
   "name": "python3"
  },
  "language_info": {
   "codemirror_mode": {
    "name": "ipython",
    "version": 3
   },
   "file_extension": ".py",
   "mimetype": "text/x-python",
   "name": "python",
   "nbconvert_exporter": "python",
   "pygments_lexer": "ipython3",
   "version": "3.11.13"
  }
 },
 "nbformat": 4,
 "nbformat_minor": 5
}
