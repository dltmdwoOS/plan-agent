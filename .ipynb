{
 "cells": [
  {
   "cell_type": "code",
   "execution_count": null,
   "id": "14c8bf4e",
   "metadata": {},
   "outputs": [],
   "source": [
    "import setup_env"
   ]
  },
  {
   "cell_type": "code",
   "execution_count": null,
   "id": "a646ee5a",
   "metadata": {},
   "outputs": [],
   "source": [
    "from agent.graph import PlanAgent\n",
    "graph = PlanAgent('demo-1')"
   ]
  },
  {
   "cell_type": "code",
   "execution_count": null,
   "id": "87d266c8",
   "metadata": {},
   "outputs": [],
   "source": [
    "graph.chat('Hello! What time is it?', is_debug=True)"
   ]
  },
  {
   "cell_type": "code",
   "execution_count": null,
   "id": "e8bc9415",
   "metadata": {},
   "outputs": [],
   "source": [
    "graph.chat('Let me know the list of tools that are currently available to you step by step. Please explain each item using bullet point.', is_debug=True)"
   ]
  },
  {
   "cell_type": "code",
   "execution_count": null,
   "id": "5253446d",
   "metadata": {},
   "outputs": [],
   "source": [
    "graph.chat('Search the news of the United States today in **English** and give a briefing something special.', is_debug=True)"
   ]
  },
  {
   "cell_type": "code",
   "execution_count": null,
   "id": "4a90475f",
   "metadata": {},
   "outputs": [],
   "source": [
    "graph.chat('Find the maximum and minimum values in the data expressed in the following list and let me know the value multiplied by each other. data = [23, 51, 62, 33, 77, 29, 94]. Don\\t forget you need some printing function to return it.', is_debug=True)"
   ]
  },
  {
   "cell_type": "code",
   "execution_count": null,
   "id": "f6509444",
   "metadata": {},
   "outputs": [],
   "source": [
    "graph.chat('Describe the screen I\\'m currently looking at.', is_debug=True)"
   ]
  },
  {
   "cell_type": "code",
   "execution_count": null,
   "id": "66cb9067",
   "metadata": {},
   "outputs": [],
   "source": [
    "# Locale Test: kr\n",
    "graph.chat('안녕! 지금 몇 시 몇 분인지 알려줘.', is_debug=True)"
   ]
  }
 ],
 "metadata": {
  "kernelspec": {
   "display_name": "plan",
   "language": "python",
   "name": "python3"
  },
  "language_info": {
   "codemirror_mode": {
    "name": "ipython",
    "version": 3
   },
   "file_extension": ".py",
   "mimetype": "text/x-python",
   "name": "python",
   "nbconvert_exporter": "python",
   "pygments_lexer": "ipython3",
   "version": "3.11.13"
  }
 },
 "nbformat": 4,
 "nbformat_minor": 5
}
