{
 "cells": [
  {
   "cell_type": "code",
   "execution_count": 2,
   "id": "14c8bf4e",
   "metadata": {},
   "outputs": [
    {
     "name": "stdout",
     "output_type": "stream",
     "text": [
      ".env file has been created.\n"
     ]
    }
   ],
   "source": [
    "import setup_env"
   ]
  },
  {
   "cell_type": "code",
   "execution_count": 1,
   "id": "a646ee5a",
   "metadata": {},
   "outputs": [],
   "source": [
    "from agent.graph import PlanAgent\n",
    "graph = PlanAgent('demo-1')"
   ]
  },
  {
   "cell_type": "code",
   "execution_count": 2,
   "id": "87d266c8",
   "metadata": {},
   "outputs": [
    {
     "name": "stdout",
     "output_type": "stream",
     "text": [
      "Input: Hello! What time is it?\n",
      "\n",
      "Attempt 1\n",
      "Plan: [{'tool': 'get_datetime', 'message': 'Get the current time.'}]\n",
      "Plan Step 1 Tool: tool='get_datetime' tool_input={'query': 'What time is it now?', 'format': '%H:%M:%S'} message='Get the current time in HH:MM:SS format.'\n",
      "Plan Step 1 Tool Output:\n",
      "<OUTPUT START>\n",
      "17:32:57\n",
      "<OUTPUT END>\n",
      "Accepted: True\n",
      "Validation Message: Successfully retrieved the current time in the specified format.\n",
      "Response:\n",
      "Hello! The current time is 17:32:57."
     ]
    },
    {
     "data": {
      "text/plain": [
       "'Hello! The current time is 17:32:57.'"
      ]
     },
     "execution_count": 2,
     "metadata": {},
     "output_type": "execute_result"
    }
   ],
   "source": [
    "graph.chat('Hello! What time is it?', is_debug=True)"
   ]
  },
  {
   "cell_type": "code",
   "execution_count": 3,
   "id": "e8bc9415",
   "metadata": {},
   "outputs": [
    {
     "name": "stdout",
     "output_type": "stream",
     "text": [
      "Input: Let me know the list of tools that are currently available to you step by step. Please explain each item using bullet point.\n",
      "\n",
      "Attempt 1\n"
     ]
    },
    {
     "name": "stdout",
     "output_type": "stream",
     "text": [
      "Plan: [{'tool': 'thought', 'message': 'Prepare a list of available tools and their explanations.'}, {'tool': 'thought', 'message': 'List the tools and provide a brief description for each one.'}]\n",
      "Step 1 Output: Prepare a list of available tools and their explanations.\n",
      "Step 2 Output: List the tools and provide a brief description for each one.\n",
      "Accepted: True\n",
      "Validation Message: Successfully prepared to provide a list of available tools and their explanations.\n",
      "Response:\n",
      "Here’s a list of the currently available tools along with their explanations:\n",
      "\n",
      "- **get_datetime**: Returns the current date and time in a specified format. Useful for questions related to date and time.\n",
      "  \n",
      "- **get_image_from_db**: Retrieves a photo from a previous conversation based on a description or message record.\n",
      "  \n",
      "- **get_image_from_screen**: Takes a screenshot of the current window and saves it as a file.\n",
      "  \n",
      "- **get_user_location**: Determines the user's current location, helpful for location-based inquiries.\n",
      "  \n",
      "- **nearby_search**: Searches for nearby places based on the user's current location, such as cafes or restaurants.\n",
      "  \n",
      "- **vision_tool**: Provides answers using both a user's query and an image, enabling multimodal responses.\n",
      "  \n",
      "- **web_search**: Performs a web search to find information based on a user's query, returning the top results.\n",
      "\n",
      "- **clear_chat_memory**: Deletes or resets the conversation history with the user.\n",
      "  \n",
      "- **save_chat_memory**: Saves the conversation history with the user for future reference.\n",
      "\n",
      "- **thought**: Used for internal reasoning or planning without executing a tool directly."
     ]
    },
    {
     "data": {
      "text/plain": [
       "\"Here’s a list of the currently available tools along with their explanations:\\n\\n- **get_datetime**: Returns the current date and time in a specified format. Useful for questions related to date and time.\\n  \\n- **get_image_from_db**: Retrieves a photo from a previous conversation based on a description or message record.\\n  \\n- **get_image_from_screen**: Takes a screenshot of the current window and saves it as a file.\\n  \\n- **get_user_location**: Determines the user's current location, helpful for location-based inquiries.\\n  \\n- **nearby_search**: Searches for nearby places based on the user's current location, such as cafes or restaurants.\\n  \\n- **vision_tool**: Provides answers using both a user's query and an image, enabling multimodal responses.\\n  \\n- **web_search**: Performs a web search to find information based on a user's query, returning the top results.\\n\\n- **clear_chat_memory**: Deletes or resets the conversation history with the user.\\n  \\n- **save_chat_memory**: Saves the conversation history with the user for future reference.\\n\\n- **thought**: Used for internal reasoning or planning without executing a tool directly.\""
      ]
     },
     "execution_count": 3,
     "metadata": {},
     "output_type": "execute_result"
    }
   ],
   "source": [
    "graph.chat('Let me know the list of tools that are currently available to you step by step. Please explain each item using bullet point.', is_debug=True)"
   ]
  },
  {
   "cell_type": "code",
   "execution_count": null,
   "id": "5253446d",
   "metadata": {},
   "outputs": [
    {
     "name": "stdout",
     "output_type": "stream",
     "text": [
      "Input: Search the news of the United States today in **English** and explain it comprehensively\n",
      "\n",
      "Attempt 1\n",
      "Plan: [{'tool': 'web_search', 'message': \"Search for today's news in the United States in English and provide a comprehensive summary.\"}]\n",
      "Plan Step 1 Tool: tool='web_search' tool_input={'query': \"United States news in English on today's date\"} message=\"Search for today's news in the United States in English and prepare for a comprehensive summary.\"\n",
      "Plan Step 1 Tool Output:\n",
      "<OUTPUT START>\n",
      "1st search result\n",
      "Title:   USA TODAY - Breaking News and Latest News Today\n",
      "URL:     https://www.usatoday.com/\n",
      "Content: Donald Trump takes aim at Beyoncé (again) after Kamala Harris endorsement · Trump and EU reach trade deal with 15% US tariffs · Atlantic hurricane season is\n",
      "\n",
      "2st search result\n",
      "Title:   CNN: Breaking News, Latest News and Videos\n",
      "URL:     https://www.cnn.com/\n",
      "Content: View the latest news and breaking news today for U.S., world, weather, entertainment, politics and health at CNN.com.\n",
      "\n",
      "3st search result\n",
      "Title:   NBC News - Breaking News & Top Stories - Latest World, US ...\n",
      "URL:     https://www.nbcnews.com/\n",
      "Content: Former GOP Rep. George Santos to report to prison today · University of New Mexico in Albuquerque. Google maps · Guns in America · 1 killed and suspect arrested\n",
      "\n",
      "4st search result\n",
      "Title:   ABC News - Breaking News, Latest News and Videos\n",
      "URL:     https://abcnews.go.com/\n",
      "Content: Gunfight erupts after deputy killed answering domestic violence call, police say · U.S. · Suspect sought in of killing\n",
      "\n",
      "<OUTPUT END>\n",
      "Accepted: False\n",
      "Validation Message: The 'web_search' tool executed successfully but failed to produce a comprehensive summary from the results. No summary was provided for the news articles retrieved.\n",
      "The above process did not pass validation. You need to re-plan based on the validation result.\n",
      "\n",
      "Attempt 2\n",
      "Plan: [{'tool': 'web_search', 'message': \"Search for today's news in the United States in English.\"}, {'tool': 'thought', 'message': 'Summarize the news articles retrieved from the search results comprehensively.'}]\n",
      "Plan Step 1 Tool: tool='web_search' tool_input={'query': \"United States news in English on today's date\"} message=\"Search for today's news in the United States in English.\"\n",
      "Plan Step 1 Tool Output:\n",
      "<OUTPUT START>\n",
      "1st search result\n",
      "Title:   USA TODAY - Breaking News and Latest News Today\n",
      "URL:     https://www.usatoday.com/\n",
      "Content: Donald Trump takes aim at Beyoncé (again) after Kamala Harris endorsement · Trump and EU reach trade deal with 15% US tariffs · Atlantic hurricane season is\n",
      "\n",
      "2st search result\n",
      "Title:   CNN: Breaking News, Latest News and Videos\n",
      "URL:     https://www.cnn.com/\n",
      "Content: View the latest news and breaking news today for U.S., world, weather, entertainment, politics and health at CNN.com.\n",
      "\n",
      "3st search result\n",
      "Title:   NBC News - Breaking News & Top Stories - Latest World, US ...\n",
      "URL:     https://www.nbcnews.com/\n",
      "Content: Former GOP Rep. George Santos to report to prison today · University of New Mexico in Albuquerque. Google maps · Guns in America · 1 killed and suspect arrested\n",
      "\n",
      "4st search result\n",
      "Title:   ABC News - Breaking News, Latest News and Videos\n",
      "URL:     https://abcnews.go.com/\n",
      "Content: Gunfight erupts after deputy killed answering domestic violence call, police say · U.S. · Suspect sought in of killing\n",
      "\n",
      "<OUTPUT END>\n",
      "Step 2 Output: Summarize the news articles retrieved from the search results comprehensively.\n",
      "Accepted: False\n",
      "Validation Message: The 'thought' tool did not execute successfully; it failed to provide a comprehensive summary of the news articles retrieved from the first step. The 'web_search' tool worked correctly and fetched news articles, so it does not need to be rerun.\n",
      "The above process did not pass validation. You need to re-plan based on the validation result.\n",
      "\n",
      "Attempt 3\n",
      "Plan: [{'tool': 'web_search', 'message': \"Search for today's news in the United States in English.\"}, {'tool': 'thought', 'message': 'Summarize the following news articles comprehensively:\\n1. USA TODAY: Donald Trump takes aim at Beyoncé after Kamala Harris endorsement; Trump and EU reach trade deal with 15% US tariffs; Atlantic hurricane season updates.\\n2. CNN: Latest news and breaking news for U.S., world, weather, entertainment, politics, and health.\\n3. NBC News: Former GOP Rep. George Santos to report to prison today; guns in America; 1 killed and suspect arrested.\\n4. ABC News: Gunfight erupts after deputy killed answering domestic violence call; suspect sought in killing.'}]\n",
      "Plan Step 1 Tool: tool='web_search' tool_input={'query': \"United States news in English on today's date\"} message=\"Search for today's news in the United States in English.\"\n",
      "Plan Step 1 Tool Output:\n",
      "<OUTPUT START>\n",
      "1st search result\n",
      "Title:   USA TODAY - Breaking News and Latest News Today\n",
      "URL:     https://www.usatoday.com/\n",
      "Content: Donald Trump takes aim at Beyoncé (again) after Kamala Harris endorsement · Trump and EU reach trade deal with 15% US tariffs · Atlantic hurricane season is\n",
      "\n",
      "2st search result\n",
      "Title:   CNN: Breaking News, Latest News and Videos\n",
      "URL:     https://www.cnn.com/\n",
      "Content: View the latest news and breaking news today for U.S., world, weather, entertainment, politics and health at CNN.com.\n",
      "\n",
      "3st search result\n",
      "Title:   NBC News - Breaking News & Top Stories - Latest World, US ...\n",
      "URL:     https://www.nbcnews.com/\n",
      "Content: Former GOP Rep. George Santos to report to prison today · University of New Mexico in Albuquerque. Google maps · Guns in America · 1 killed and suspect arrested\n",
      "\n",
      "4st search result\n",
      "Title:   ABC News - Breaking News, Latest News and Videos\n",
      "URL:     https://abcnews.go.com/\n",
      "Content: Gunfight erupts after deputy killed answering domestic violence call, police say · U.S. · Suspect sought in of killing\n",
      "\n",
      "<OUTPUT END>\n",
      "Step 2 Output: Summarize the following news articles comprehensively:\n",
      "1. USA TODAY: Donald Trump takes aim at Beyoncé after Kamala Harris endorsement; Trump and EU reach trade deal with 15% US tariffs; Atlantic hurricane season updates.\n",
      "2. CNN: Latest news and breaking news for U.S., world, weather, entertainment, politics, and health.\n",
      "3. NBC News: Former GOP Rep. George Santos to report to prison today; guns in America; 1 killed and suspect arrested.\n",
      "4. ABC News: Gunfight erupts after deputy killed answering domestic violence call; suspect sought in killing.\n",
      "Accepted: False\n",
      "Validation Message: The 'thought' tool failed to produce a comprehensive summary of the news articles retrieved in the previous 'web_search'. Although the articles were listed, no actual summary was provided to encapsulate the key points or themes from those articles.\n",
      "The above process did not pass validation. You need to re-plan based on the validation result.\n",
      "Maximum number of attempts exceeded. Further plan resets and tool usage are not possible.\n",
      "Response:\n",
      "I'm sorry, but it seems that I encountered difficulties in summarizing today's news from the United States. However, I can provide you with the main headlines based on the search results:\n",
      "\n",
      "1. **USA TODAY**: Donald Trump has made headlines again by taking aim at Beyoncé following Kamala Harris's endorsement. Additionally, there is news about a trade deal between Trump and the EU involving a 15% tariff on U.S. goods, along with updates on the Atlantic hurricane season.\n",
      "\n",
      "2. **CNN**: They provide a broad overview of the latest news, covering various topics including U.S. and world news, weather, entertainment, politics, and health.\n",
      "\n",
      "3. **NBC News**: Former GOP Representative George Santos is set to report to prison today. The news also highlights issues related to gun violence in America, noting that one person was killed and a suspect has been arrested.\n",
      "\n",
      "4. **ABC News**: A gunfight erupted after a deputy was killed while responding to a domestic violence call, and authorities are currently searching for a suspect involved in the killing.\n",
      "\n",
      "If you would like more detailed information on any specific topic, please let me know!"
     ]
    },
    {
     "data": {
      "text/plain": [
       "\"I'm sorry, but it seems that I encountered difficulties in summarizing today's news from the United States. However, I can provide you with the main headlines based on the search results:\\n\\n1. **USA TODAY**: Donald Trump has made headlines again by taking aim at Beyoncé following Kamala Harris's endorsement. Additionally, there is news about a trade deal between Trump and the EU involving a 15% tariff on U.S. goods, along with updates on the Atlantic hurricane season.\\n\\n2. **CNN**: They provide a broad overview of the latest news, covering various topics including U.S. and world news, weather, entertainment, politics, and health.\\n\\n3. **NBC News**: Former GOP Representative George Santos is set to report to prison today. The news also highlights issues related to gun violence in America, noting that one person was killed and a suspect has been arrested.\\n\\n4. **ABC News**: A gunfight erupted after a deputy was killed while responding to a domestic violence call, and authorities are currently searching for a suspect involved in the killing.\\n\\nIf you would like more detailed information on any specific topic, please let me know!\""
      ]
     },
     "execution_count": 4,
     "metadata": {},
     "output_type": "execute_result"
    }
   ],
   "source": [
    "graph.chat('Search the news of the United States today in **English** and explain it comprehensively.', is_debug=True)"
   ]
  },
  {
   "cell_type": "code",
   "execution_count": 3,
   "id": "4a90475f",
   "metadata": {},
   "outputs": [
    {
     "name": "stdout",
     "output_type": "stream",
     "text": [
      "Input: Find the maximum and minimum values in the data expressed in the following list and let me know the value multiplied by each other. data = [23, 51, 62, 33, 77, 29, 94]. Don\t forget you need some printing function to return it.\n",
      "\n",
      "Attempt 1\n",
      "Plan: [{'tool': 'execute_code', 'message': 'Find the maximum and minimum values in the list and multiply them.'}]\n",
      "Plan Step 1 Tool: tool='execute_code' tool_input={'code': 'data = [23, 51, 62, 33, 77, 29, 94]\\nmax_value = max(data)\\nmin_value = min(data)\\nresult = max_value * min_value\\nprint(result)', 'timeout': 5} message='Execute code to find the maximum and minimum values in the list and print the result of their multiplication.'\n",
      "Plan Step 1 Tool Output:\n",
      "<OUTPUT START>\n",
      "2162\n",
      "\n",
      "<OUTPUT END>\n",
      "Accepted: True\n",
      "Validation Message: The code executed successfully, calculating and printing the product of the maximum and minimum values.\n",
      "Response:\n",
      "The product of the maximum and minimum values in the list is 2162."
     ]
    },
    {
     "data": {
      "text/plain": [
       "'The product of the maximum and minimum values in the list is 2162.'"
      ]
     },
     "execution_count": 3,
     "metadata": {},
     "output_type": "execute_result"
    }
   ],
   "source": [
    "graph.chat('Find the maximum and minimum values in the data expressed in the following list and let me know the value multiplied by each other. data = [23, 51, 62, 33, 77, 29, 94]. Don\\t forget you need some printing function to return it.', is_debug=True)"
   ]
  },
  {
   "cell_type": "code",
   "execution_count": 2,
   "id": "f6509444",
   "metadata": {},
   "outputs": [
    {
     "name": "stdout",
     "output_type": "stream",
     "text": [
      "Input: Describe the screen I'm currently looking at.\n",
      "\n",
      "Attempt 1\n",
      "Plan: [{'tool': 'get_image_from_screen', 'message': 'Take a screenshot of the current screen to analyze its content.'}]\n",
      "Plan Step 1 Tool: tool='get_image_from_screen' tool_input={'query': \"Take a screenshot of the screen I'm currently looking at.\"} message='Capture a screenshot to describe the current screen.'\n",
      "Plan Step 1 Tool Output:\n",
      "<OUTPUT START>\n",
      "C:\\Users\\coex0\\Documents\\GitHub\\plan-agent\\agent\\memory\\image\\screenshot_20250728_173738.png\n",
      "<OUTPUT END>\n",
      "Accepted: False\n",
      "Validation Message: The 'get_image_from_screen' tool executed successfully and captured the screenshot, but no content analysis or description was provided thereafter. Further steps are required to analyze and describe the screen.\n",
      "The above process did not pass validation. You need to re-plan based on the validation result.\n",
      "\n",
      "Attempt 2\n",
      "Plan: [{'tool': 'get_image_from_screen', 'message': 'Take a screenshot of the current screen.'}, {'tool': 'vision_tool', 'message': 'Describe the content of the screenshot taken.'}]\n",
      "Plan Step 1 Tool: tool='get_image_from_screen' tool_input={'query': \"Take a screenshot of the screen I'm currently looking at.\"} message='Capture a screenshot to describe the current screen.'\n",
      "Plan Step 1 Tool Output:\n",
      "<OUTPUT START>\n",
      "C:\\Users\\coex0\\Documents\\GitHub\\plan-agent\\agent\\memory\\image\\screenshot_20250728_173741.png\n",
      "<OUTPUT END>\n",
      "Plan Step 2 Tool: tool='vision_tool' tool_input={'image_path': 'C:\\\\Users\\\\coex0\\\\Documents\\\\GitHub\\\\plan-agent\\\\agent\\\\memory\\\\image\\\\screenshot_20250728_173741.png', 'query': 'Describe the content of the screenshot.'} message='Analyze the screenshot taken to describe its content.'\n",
      "Plan Step 2 Tool Output:\n",
      "<OUTPUT START>\n",
      "The screenshot displays a coding environment, likely a Jupyter Notebook, showing a Python script. It includes a cell with an input prompt asking to describe the current screen. Below that, there are attempts to execute a function to capture the screen and analyze its content. The first attempt failed validation, while the second attempt is being prepared. The interface shows various files and folders in the project directory, along with some code snippets and messages related to the execution of the commands.\n",
      "<OUTPUT END>\n",
      "Accepted: True\n",
      "Validation Message: Both steps executed successfully: a screenshot was captured and then analyzed to provide a description.\n",
      "Response:\n",
      "The screenshot displays a coding environment, likely a Jupyter Notebook, showing a Python script. It includes a cell with an input prompt asking to describe the current screen. Below that, there are attempts to execute a function to capture the screen and analyze its content. The first attempt failed validation, while the second attempt is being prepared. The interface shows various files and folders in the project directory, along with some code snippets and messages related to the execution of the commands."
     ]
    },
    {
     "data": {
      "text/plain": [
       "'The screenshot displays a coding environment, likely a Jupyter Notebook, showing a Python script. It includes a cell with an input prompt asking to describe the current screen. Below that, there are attempts to execute a function to capture the screen and analyze its content. The first attempt failed validation, while the second attempt is being prepared. The interface shows various files and folders in the project directory, along with some code snippets and messages related to the execution of the commands.'"
      ]
     },
     "execution_count": 2,
     "metadata": {},
     "output_type": "execute_result"
    }
   ],
   "source": [
    "graph.chat('Describe the screen I\\'m currently looking at.', is_debug=True)"
   ]
  }
 ],
 "metadata": {
  "kernelspec": {
   "display_name": "plan",
   "language": "python",
   "name": "python3"
  },
  "language_info": {
   "codemirror_mode": {
    "name": "ipython",
    "version": 3
   },
   "file_extension": ".py",
   "mimetype": "text/x-python",
   "name": "python",
   "nbconvert_exporter": "python",
   "pygments_lexer": "ipython3",
   "version": "3.11.13"
  }
 },
 "nbformat": 4,
 "nbformat_minor": 5
}
