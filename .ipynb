{
 "cells": [
  {
   "cell_type": "markdown",
   "id": "f404a0c9",
   "metadata": {},
   "source": [
    "## 0. Set up `.env`"
   ]
  },
  {
   "cell_type": "code",
   "execution_count": null,
   "id": "14c8bf4e",
   "metadata": {},
   "outputs": [],
   "source": [
    "import setup_env"
   ]
  },
  {
   "cell_type": "markdown",
   "id": "2e5cd390",
   "metadata": {},
   "source": [
    "## 1-1. Test graph"
   ]
  },
  {
   "cell_type": "code",
   "execution_count": null,
   "id": "1dce9cb1",
   "metadata": {},
   "outputs": [],
   "source": [
    "from agent.graph import PlanAgent\n",
    "graph = PlanAgent('demo-1')"
   ]
  },
  {
   "cell_type": "code",
   "execution_count": null,
   "id": "87d266c8",
   "metadata": {},
   "outputs": [],
   "source": [
    "graph.chat('Hello! What time is it?', is_debug=True)"
   ]
  },
  {
   "cell_type": "code",
   "execution_count": null,
   "id": "ebf48030",
   "metadata": {},
   "outputs": [],
   "source": [
    "graph.chat('Hello! My name is SJ, Korean AI engineer. Nice to meet you!', is_debug=True)"
   ]
  },
  {
   "cell_type": "code",
   "execution_count": null,
   "id": "e8bc9415",
   "metadata": {},
   "outputs": [],
   "source": [
    "graph.chat('Let me know the list of tools that are currently available to you step by step. Please explain each item using bullet point.', is_debug=True)"
   ]
  },
  {
   "cell_type": "code",
   "execution_count": null,
   "id": "5253446d",
   "metadata": {},
   "outputs": [],
   "source": [
    "graph.chat('Search the news of the United States today in **English** and give a briefing something special.', is_debug=True)"
   ]
  },
  {
   "cell_type": "code",
   "execution_count": null,
   "id": "4a90475f",
   "metadata": {},
   "outputs": [],
   "source": [
    "graph.chat('Find the maximum and minimum values in the data expressed in the following list and let me know the value multiplied by each other. data = [23, 51, 62, 33, 77, 29, 94]. Don\\t forget you need some printing function to return it.', is_debug=True)"
   ]
  },
  {
   "cell_type": "code",
   "execution_count": null,
   "id": "f6509444",
   "metadata": {},
   "outputs": [],
   "source": [
    "graph.chat('Describe the screen I\\'m currently looking at.', is_debug=True)"
   ]
  },
  {
   "cell_type": "code",
   "execution_count": null,
   "id": "e5299a73",
   "metadata": {},
   "outputs": [],
   "source": [
    "graph.chat('Save the conversation.', is_debug=True)"
   ]
  },
  {
   "cell_type": "code",
   "execution_count": null,
   "id": "66cb9067",
   "metadata": {},
   "outputs": [],
   "source": [
    "# Locale Test: kr\n",
    "graph.chat('안녕! 지금 몇 시 몇 분인지 알려줘.', is_debug=True)"
   ]
  },
  {
   "cell_type": "markdown",
   "id": "ff26797a",
   "metadata": {},
   "source": [
    "## 1-2. Test agraph"
   ]
  },
  {
   "cell_type": "code",
   "execution_count": null,
   "id": "372be64c",
   "metadata": {},
   "outputs": [],
   "source": [
    "from agent.agraph import PlanAgent\n",
    "graph = PlanAgent('demo-1')"
   ]
  },
  {
   "cell_type": "code",
   "execution_count": null,
   "id": "00567012",
   "metadata": {},
   "outputs": [],
   "source": [
    "await graph.chat('Hello! My name is SJ, Korean AI engineer. Nice to meet you!', is_debug=True)"
   ]
  },
  {
   "cell_type": "code",
   "execution_count": null,
   "id": "3d587768",
   "metadata": {},
   "outputs": [],
   "source": [
    "await graph.chat('Describe the screen I\\'m currently looking at.', is_debug=True)"
   ]
  },
  {
   "cell_type": "code",
   "execution_count": null,
   "id": "0f3c902c",
   "metadata": {},
   "outputs": [],
   "source": [
    "await graph.chat(r'Find the maximum and minimum values in the data expressed in the following list and let me know the value multiplied by each other. data = [23, 51, 62, 33, 77, 29, 94]. Don\\t forget you need some printing function to return it.', is_debug=True)"
   ]
  },
  {
   "cell_type": "code",
   "execution_count": null,
   "id": "7877951f",
   "metadata": {},
   "outputs": [],
   "source": [
    "await graph.chat('Search the news of the United States today in **English** and give a briefing something special.', is_debug=True)"
   ]
  },
  {
   "cell_type": "code",
   "execution_count": null,
   "id": "b83d4d0b",
   "metadata": {},
   "outputs": [],
   "source": [
    "graph.memory.tokens"
   ]
  },
  {
   "cell_type": "code",
   "execution_count": null,
   "id": "f15a8e53",
   "metadata": {},
   "outputs": [],
   "source": [
    "graph.entity_memory.entity_memory"
   ]
  },
  {
   "cell_type": "markdown",
   "id": "20ad73b3",
   "metadata": {},
   "source": [
    "## A. LLM Test"
   ]
  },
  {
   "cell_type": "code",
   "execution_count": null,
   "id": "deb991d1",
   "metadata": {},
   "outputs": [],
   "source": [
    "from agent.llm import get_llm\n",
    "from agent.model.chain_config import ChainConfig\n",
    "lc = ChainConfig('toy', None, model_family='openai', model_name='gpt-4.1-nano')\n",
    "llm = get_llm(lc, tags=['toy'])"
   ]
  },
  {
   "cell_type": "code",
   "execution_count": null,
   "id": "8122381c",
   "metadata": {},
   "outputs": [],
   "source": [
    "messages = [\n",
    "    ('user', 'Hello World!')\n",
    "]\n",
    "llm.invoke(messages)"
   ]
  }
 ],
 "metadata": {
  "kernelspec": {
   "display_name": "plan",
   "language": "python",
   "name": "python3"
  },
  "language_info": {
   "codemirror_mode": {
    "name": "ipython",
    "version": 3
   },
   "file_extension": ".py",
   "mimetype": "text/x-python",
   "name": "python",
   "nbconvert_exporter": "python",
   "pygments_lexer": "ipython3",
   "version": "3.11.13"
  }
 },
 "nbformat": 4,
 "nbformat_minor": 5
}
